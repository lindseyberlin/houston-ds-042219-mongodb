{
 "cells": [
  {
   "cell_type": "markdown",
   "metadata": {},
   "source": [
    "## Let's Use MongoDB! Yay! :ultrafastparrot:"
   ]
  },
  {
   "cell_type": "code",
   "execution_count": 3,
   "metadata": {},
   "outputs": [],
   "source": [
    "# import the library 'pymongo'\n",
    "import pymongo"
   ]
  },
  {
   "cell_type": "code",
   "execution_count": 6,
   "metadata": {},
   "outputs": [],
   "source": [
    "# establish the connection to the MongoDB that is locally on your computer\n",
    "my_client = pymongo.MongoClient(\"mongodb://127.0.0.1:27017\")\n",
    "animal_shelter_db = my_client[\"animal_shelter_db\"]"
   ]
  },
  {
   "cell_type": "code",
   "execution_count": null,
   "metadata": {},
   "outputs": [],
   "source": [
    "# use the database you want to use for this code along!\n",
    "# Because MongoDB is SO cool, if you try and connect to a DB that doesn't exist yet,\n",
    "# MongoDB will create it for you and then connect to it\n"
   ]
  },
  {
   "cell_type": "code",
   "execution_count": 7,
   "metadata": {},
   "outputs": [],
   "source": [
    "# Now create the 'collection' you want to interface with\n",
    "# a 'collection' is similar to a SQL Table\n",
    "cat_collection = animal_shelter_db[\"cats\"]"
   ]
  },
  {
   "cell_type": "markdown",
   "metadata": {},
   "source": [
    "## CRUD"
   ]
  },
  {
   "cell_type": "markdown",
   "metadata": {},
   "source": [
    "## Create!"
   ]
  },
  {
   "cell_type": "code",
   "execution_count": 9,
   "metadata": {},
   "outputs": [],
   "source": [
    "cat1 = {\n",
    "    \"Name\": \"T'Challa\",\n",
    "    \"Color\": \"Black\",\n",
    "    \"Age\": 1,\n",
    "    \"Superhero\": True\n",
    "}"
   ]
  },
  {
   "cell_type": "code",
   "execution_count": null,
   "metadata": {},
   "outputs": [],
   "source": [
    "results = cat_collection.insert_one(cat1)"
   ]
  },
  {
   "cell_type": "code",
   "execution_count": 14,
   "metadata": {},
   "outputs": [
    {
     "name": "stdout",
     "output_type": "stream",
     "text": [
      "{'_id': ObjectId('5cdc7595e9ea74914371723f'), 'Name': \"T'Challa\", 'Color': 'Black', 'Age': 1, 'Superhero': True}\n"
     ]
    }
   ],
   "source": [
    "query_1 = cat_collection.find({})\n",
    "for q in query_1:\n",
    "    print(q)"
   ]
  },
  {
   "cell_type": "code",
   "execution_count": 16,
   "metadata": {},
   "outputs": [],
   "source": [
    "cats = [\n",
    "    {\n",
    "        \"Name\": \"Angus\",\n",
    "        \"Color\": [\"black\", \"white\"],\n",
    "        \"Age\": \"8 weeks\",\n",
    "        \"Gender\": \"Whoops\"\n",
    "    },\n",
    "    {\n",
    "        \"Name\": \"Captain\",\n",
    "        \"Color\": [\"black\", \"white\"],\n",
    "        \"Age\": \"8 weeks\",\n",
    "        \"Gender\": \"Male\"\n",
    "    },\n",
    "    {\n",
    "        \"Name\": \"Ridgeback\",\n",
    "        \"Color\": [\"gray\", \"white\"],\n",
    "        \"Age\": \"8 weeks\",\n",
    "        \"Gender\": \"Female\"\n",
    "    }\n",
    "]"
   ]
  },
  {
   "cell_type": "code",
   "execution_count": 17,
   "metadata": {},
   "outputs": [],
   "source": [
    "results_2 = cat_collection.insert_many(cats)"
   ]
  },
  {
   "cell_type": "code",
   "execution_count": 18,
   "metadata": {
    "scrolled": true
   },
   "outputs": [
    {
     "name": "stdout",
     "output_type": "stream",
     "text": [
      "{'_id': ObjectId('5cdc7595e9ea74914371723f'), 'Name': \"T'Challa\", 'Color': 'Black', 'Age': 1, 'Superhero': True}\n",
      "{'_id': ObjectId('5cdc7702e9ea749143717240'), 'Name': 'Angus', 'Color': ['black', 'white'], 'Age': '8 weeks', 'Gender': 'Whoops'}\n",
      "{'_id': ObjectId('5cdc7702e9ea749143717241'), 'Name': 'Captain', 'Color': ['black', 'white'], 'Age': '8 weeks', 'Gender': 'Male'}\n",
      "{'_id': ObjectId('5cdc7702e9ea749143717242'), 'Name': 'Ridgeback', 'Color': ['gray', 'white'], 'Age': '8 weeks', 'Gender': 'Female'}\n"
     ]
    }
   ],
   "source": [
    "query_2 = cat_collection.find({})\n",
    "for q in query_2:\n",
    "    print(q)"
   ]
  },
  {
   "cell_type": "code",
   "execution_count": 33,
   "metadata": {},
   "outputs": [],
   "source": [
    "cat2 = {\n",
    "    \"Name\": \"Frodo\",\n",
    "    \"Color\": [\"gray\", \"white\"],\n",
    "    \"Age\": \"8 weeks\",\n",
    "    \"Gender\": \"Male\"\n",
    "}\n",
    "results_3 = cat_collection.insert_one(cat2)"
   ]
  },
  {
   "cell_type": "markdown",
   "metadata": {},
   "source": [
    "## Read!"
   ]
  },
  {
   "cell_type": "code",
   "execution_count": 21,
   "metadata": {
    "scrolled": true
   },
   "outputs": [
    {
     "data": {
      "text/plain": [
       "{'_id': ObjectId('5cdc7595e9ea74914371723f'),\n",
       " 'Name': \"T'Challa\",\n",
       " 'Color': 'Black',\n",
       " 'Age': 1,\n",
       " 'Superhero': True}"
      ]
     },
     "execution_count": 21,
     "metadata": {},
     "output_type": "execute_result"
    }
   ],
   "source": [
    "results_3 = cat_collection.find_one({\"Name\": \"T'Challa\"})\n",
    "results_3"
   ]
  },
  {
   "cell_type": "code",
   "execution_count": 32,
   "metadata": {},
   "outputs": [
    {
     "name": "stdout",
     "output_type": "stream",
     "text": [
      "{'Name': \"T'Challa\"}\n",
      "{'Name': 'Angus'}\n",
      "{'Name': 'Captain'}\n"
     ]
    }
   ],
   "source": [
    "results_4 = cat_collection.find({\"Color\": \"black\"}, {\"_id\":0, \"Name\":1})\n",
    "for r in results_4:\n",
    "    print(r)"
   ]
  },
  {
   "cell_type": "markdown",
   "metadata": {},
   "source": [
    "## Update!"
   ]
  },
  {
   "cell_type": "code",
   "execution_count": 30,
   "metadata": {},
   "outputs": [],
   "source": [
    "to_update = {\"Name\": \"T'Challa\"}\n",
    "update_1 = {\"$set\": {\"Color\": \"black\"}}"
   ]
  },
  {
   "cell_type": "code",
   "execution_count": 34,
   "metadata": {},
   "outputs": [
    {
     "name": "stdout",
     "output_type": "stream",
     "text": [
      "{'_id': ObjectId('5cdc7595e9ea74914371723f'), 'Name': \"T'Challa\", 'Color': 'black', 'Age': 1, 'Superhero': True}\n",
      "{'_id': ObjectId('5cdc7702e9ea749143717240'), 'Name': 'Angus', 'Color': ['black', 'white'], 'Age': '8 weeks', 'Gender': 'Whoops'}\n",
      "{'_id': ObjectId('5cdc7702e9ea749143717241'), 'Name': 'Captain', 'Color': ['black', 'white'], 'Age': '8 weeks', 'Gender': 'Male'}\n",
      "{'_id': ObjectId('5cdc7702e9ea749143717242'), 'Name': 'Ridgeback', 'Color': ['gray', 'white'], 'Age': '8 weeks', 'Gender': 'Female'}\n",
      "{'_id': ObjectId('5cdc79b5e9ea749143717243'), 'Name': 'Frodo', 'Color': ['gray', 'white'], 'Age': '8 weeks', 'Gender': 'Male'}\n"
     ]
    }
   ],
   "source": [
    "cat_collection.update_one(to_update, update_1)\n",
    "\n",
    "query_3 = cat_collection.find({})\n",
    "for q in query_3:\n",
    "    print(q)"
   ]
  },
  {
   "cell_type": "markdown",
   "metadata": {},
   "source": [
    "## Delete!"
   ]
  },
  {
   "cell_type": "code",
   "execution_count": 35,
   "metadata": {},
   "outputs": [
    {
     "name": "stdout",
     "output_type": "stream",
     "text": [
      "1\n"
     ]
    }
   ],
   "source": [
    "deletion_1 = cat_collection.delete_one({\"Name\": \"Frodo\"})\n",
    "print(deletion_1.deleted_count)"
   ]
  },
  {
   "cell_type": "code",
   "execution_count": 36,
   "metadata": {},
   "outputs": [
    {
     "name": "stdout",
     "output_type": "stream",
     "text": [
      "{'_id': ObjectId('5cdc7595e9ea74914371723f'), 'Name': \"T'Challa\", 'Color': 'black', 'Age': 1, 'Superhero': True}\n",
      "{'_id': ObjectId('5cdc7702e9ea749143717240'), 'Name': 'Angus', 'Color': ['black', 'white'], 'Age': '8 weeks', 'Gender': 'Whoops'}\n",
      "{'_id': ObjectId('5cdc7702e9ea749143717241'), 'Name': 'Captain', 'Color': ['black', 'white'], 'Age': '8 weeks', 'Gender': 'Male'}\n",
      "{'_id': ObjectId('5cdc7702e9ea749143717242'), 'Name': 'Ridgeback', 'Color': ['gray', 'white'], 'Age': '8 weeks', 'Gender': 'Female'}\n"
     ]
    }
   ],
   "source": [
    "query_4 = cat_collection.find({})\n",
    "for q in query_4:\n",
    "    print(q)"
   ]
  },
  {
   "cell_type": "code",
   "execution_count": null,
   "metadata": {},
   "outputs": [],
   "source": []
  }
 ],
 "metadata": {
  "kernelspec": {
   "display_name": "Python 3",
   "language": "python",
   "name": "python3"
  },
  "language_info": {
   "codemirror_mode": {
    "name": "ipython",
    "version": 3
   },
   "file_extension": ".py",
   "mimetype": "text/x-python",
   "name": "python",
   "nbconvert_exporter": "python",
   "pygments_lexer": "ipython3",
   "version": "3.7.3"
  }
 },
 "nbformat": 4,
 "nbformat_minor": 2
}
